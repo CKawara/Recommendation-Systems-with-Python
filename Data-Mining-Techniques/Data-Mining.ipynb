{
 "cells": [
  {
   "attachments": {},
   "cell_type": "markdown",
   "metadata": {},
   "source": [
    "## Techniques, Principles and Algorithms that go into building collaborative filters"
   ]
  },
  {
   "attachments": {},
   "cell_type": "markdown",
   "metadata": {},
   "source": [
    "### Similarity Measures\n",
    "How can we mathematically quantify how different or similar two items are to each other\n",
    "\n",
    " - Euclidean distance - the length of the line segment joining two data points plotted on an n-dimensional Cartesian plane **The lower the Euclidean score, the more similar the two points are to each other**"
   ]
  },
  {
   "cell_type": "code",
   "execution_count": 1,
   "metadata": {},
   "outputs": [],
   "source": [
    "%matplotlib inline\n",
    "\n",
    "import pandas as pd\n",
    "import matplotlib.pyplot as plt\n",
    "import seaborn as sns\n",
    "import numpy as np"
   ]
  },
  {
   "cell_type": "code",
   "execution_count": 2,
   "metadata": {},
   "outputs": [],
   "source": [
    "# function to compute Euclidean distance\n",
    "def euclidean(v1, v2):\n",
    "    # convert 1-D Python lists to numpy vectors\n",
    "    v1 = np.array(v1)\n",
    "    v2 = np.array(v2)\n",
    "    # compute vectors which is the element wise square of the distance\n",
    "    diff = np.power(np.array(v1) - np.array(v2), 2)\n",
    "    # perform summation of the elements of the above vector\n",
    "    sigma_val = np.sum(diff)\n",
    "    # compute square root amd return final euclidean score\n",
    "    euclid_score =np.sqrt(sigma_val)\n",
    "    return euclid_score"
   ]
  },
  {
   "cell_type": "code",
   "execution_count": 3,
   "metadata": {},
   "outputs": [
    {
     "data": {
      "text/plain": [
       "7.483314773547883"
      ]
     },
     "execution_count": 3,
     "metadata": {},
     "output_type": "execute_result"
    }
   ],
   "source": [
    "# define 3 users with rating for 5 movies\n",
    "u1 = [5,1,2,4,5]\n",
    "u2 = [1,5,4,2,1]\n",
    "u3 = [5,2,2,4,4]\n",
    "\n",
    "# from this, we see that 1 and 3 have fairly similar taste, while 2 and 1 have totally different tastes. Lets test5 our funtion \n",
    "euclidean(u1, u2)"
   ]
  },
  {
   "cell_type": "code",
   "execution_count": 4,
   "metadata": {},
   "outputs": [
    {
     "data": {
      "text/plain": [
       "1.4142135623730951"
      ]
     },
     "execution_count": 4,
     "metadata": {},
     "output_type": "execute_result"
    }
   ],
   "source": [
    "euclidean(u1, u3)"
   ]
  },
  {
   "attachments": {},
   "cell_type": "markdown",
   "metadata": {},
   "source": [
    "1 and 3 have a smaller euclidean score between them, compared to the score between 1 and 2. \n",
    "This proves that 1 and 3 have similar taste and the euclidean distance was able to capture the relationship between our users"
   ]
  }
 ],
 "metadata": {
  "kernelspec": {
   "display_name": "base",
   "language": "python",
   "name": "python3"
  },
  "language_info": {
   "codemirror_mode": {
    "name": "ipython",
    "version": 3
   },
   "file_extension": ".py",
   "mimetype": "text/x-python",
   "name": "python",
   "nbconvert_exporter": "python",
   "pygments_lexer": "ipython3",
   "version": "3.9.13"
  },
  "orig_nbformat": 4,
  "vscode": {
   "interpreter": {
    "hash": "a077222d77dfe082b8f1dd562ad70e458ac2ab76993a0b248ab0476e32e9e8dd"
   }
  }
 },
 "nbformat": 4,
 "nbformat_minor": 2
}
