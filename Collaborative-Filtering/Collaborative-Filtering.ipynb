{
 "cells": [
  {
   "attachments": {},
   "cell_type": "markdown",
   "metadata": {},
   "source": [
    "First we will build a well-defined framework that will allow us to build and test our collaborative filtering models effortlessly.\n",
    "The framework will consist of data, the evaluation metric, and a correspoinding function to compute that metric for a given model"
   ]
  },
  {
   "attachments": {},
   "cell_type": "markdown",
   "metadata": {},
   "source": [
    "### The Framework\n",
    "\n",
    "Since collaborative filtering demands data on user behavior, we will use anotger dataset called MovieLens.\n",
    "MovieLens gives us user ratings on a variety of movies and is available in various sizes.\n",
    "The full version consists of more than 26,000,000 ratings applied to 45,000 movies by\n",
    "270,000 users."
   ]
  },
  {
   "cell_type": "markdown",
   "metadata": {},
   "source": []
  }
 ],
 "metadata": {
  "language_info": {
   "name": "python"
  },
  "orig_nbformat": 4
 },
 "nbformat": 4,
 "nbformat_minor": 2
}
